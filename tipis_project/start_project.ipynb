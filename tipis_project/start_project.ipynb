{
 "cells": [
  {
   "cell_type": "code",
   "execution_count": null,
   "id": "e6665cb9-83e0-4ed4-b49a-ab88084ba92f",
   "metadata": {},
   "outputs": [],
   "source": [
    "# Импортируем необходимые библиотеки\n",
    "import pandas as pd\n",
    "import streamlit as st\n",
    "import joblib\n",
    "\n",
    "# Загрузка обученной модели\n",
    "model = joblib.load('best_actor_award_predictor.pkl')\n",
    "\n",
    "# Определение всех признаков (соответствует обучению модели)\n",
    "all_columns = ['Oscars Nominations', 'BAFTA Nominations', 'Golden Globe Nominations']\n",
    "\n",
    "# Заголовок приложения\n",
    "st.title('Прогноз количества Оскаров для актёров')\n",
    "\n",
    "# Ввод данных пользователя\n",
    "oscars_nominations = st.number_input('Номинации на Оскар', min_value=0, max_value=20, value=1)\n",
    "bafta_nominations = st.number_input('Номинации на BAFTA', min_value=0, max_value=20, value=1)\n",
    "golden_globe_nominations = st.number_input('Номинации на Золотой глобус', min_value=0, max_value=20, value=1)\n",
    "\n",
    "# Преобразование введенных данных в формат, понятный модели\n",
    "input_data = {\n",
    "    'Oscars Nominations': oscars_nominations,\n",
    "    'BAFTA Nominations': bafta_nominations,\n",
    "    'Golden Globe Nominations': golden_globe_nominations\n",
    "}\n",
    "\n",
    "# Заполняем отсутствующие признаки нулями\n",
    "input_df = pd.DataFrame([input_data], columns=all_columns).fillna(0)\n",
    "\n",
    "# Предсказание количества Оскаров\n",
    "if st.button('Предсказать количество Оскаров'):\n",
    "    prediction = model.predict(input_df)\n",
    "    st.success(f'Предполагаемое количество Оскаров: {int(prediction[0])}')\n",
    "\n",
    "# Запуск приложения можно осуществить с помощью команды: streamlit run название_файла.py\n"
   ]
  }
 ],
 "metadata": {
  "kernelspec": {
   "display_name": "Python 3 (ipykernel)",
   "language": "python",
   "name": "python3"
  },
  "language_info": {
   "codemirror_mode": {
    "name": "ipython",
    "version": 3
   },
   "file_extension": ".py",
   "mimetype": "text/x-python",
   "name": "python",
   "nbconvert_exporter": "python",
   "pygments_lexer": "ipython3",
   "version": "3.11.0"
  }
 },
 "nbformat": 4,
 "nbformat_minor": 5
}
